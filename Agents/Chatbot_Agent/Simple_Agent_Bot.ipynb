{
 "cells": [
  {
   "cell_type": "code",
   "execution_count": 3,
   "id": "903079c3",
   "metadata": {},
   "outputs": [],
   "source": [
    "# %pip install langchain\n",
    "# %pip install langchain_core\n",
    "# %pip install langchain_openai"
   ]
  },
  {
   "cell_type": "code",
   "execution_count": 2,
   "id": "0cd95358",
   "metadata": {},
   "outputs": [],
   "source": [
    "# # Code to check for API key loading is successful\n",
    "# import os\n",
    "# from dotenv import load_dotenv\n",
    "# load_dotenv()\n",
    "\n",
    "# # Debug: Check if the API key is loaded\n",
    "# api_key = os.getenv(\"OPENAI_API_KEY\")\n",
    "# print(f\"API Key loaded: {api_key is not None}\")\n",
    "# if api_key:\n",
    "#     # Show first 10 chars for verification\n",
    "#     print(f\"API Key starts with: {api_key[:10]}...\")"
   ]
  },
  {
   "cell_type": "code",
   "execution_count": 4,
   "id": "c1c3fdc7",
   "metadata": {},
   "outputs": [
    {
     "name": "stdout",
     "output_type": "stream",
     "text": [
      "\n",
      "AI: I’m an AI language model created by OpenAI, known as ChatGPT. I’m designed to understand and generate human-like text based on the input I receive. My main purpose is to assist users by providing information, answering questions, and helping with a wide variety of tasks, ranging from casual conversation to educational support. My knowledge is based on a diverse range of internet sources, books, and other texts available up until October 2023. However, I don’t have personal experiences or consciousness, and I prioritize user privacy and security in every interaction.\n",
      "\n",
      "AI: The Mandela Effect refers to a phenomenon where a large group of people remember something differently from how it occurred. Named after Nelson Mandela, the effect was so named because many people falsely remembered him dying in prison during the 1980s, although he was actually released and became the President of South Africa, living until 2013.\n",
      "\n",
      "This effect is often attributed to false memories, which can be shaped by social and cognitive factors, including the influence of others' memories and incorrect information. Some people speculate about more exotic explanations, such as alternate realities or parallel universes, although these ideas are more in the realm of science fiction rather than scientific fact. The Mandela Effect highlights the fallibility of human memory and how it can be influenced by various factors.\n"
     ]
    }
   ],
   "source": [
    "from typing import TypedDict, List\n",
    "from langchain_core.messages import HumanMessage\n",
    "from langchain_openai import ChatOpenAI\n",
    "from langgraph.graph import StateGraph, START, END\n",
    "# used to store secret API keys in .env file and environment configuration\n",
    "from dotenv import load_dotenv\n",
    "\n",
    "load_dotenv()  # take environment variables from .env file\n",
    "\n",
    "\n",
    "class AgentState(TypedDict):\n",
    "    messages: List[HumanMessage]\n",
    "\n",
    "\n",
    "llm = ChatOpenAI(model=\"gpt-4o\")\n",
    "\n",
    "\n",
    "def process_input(state: AgentState) -> AgentState:\n",
    "    response = llm.invoke(state[\"messages\"])\n",
    "    print(f\"\\nAI: {response.content}\")\n",
    "    return state\n",
    "\n",
    "\n",
    "graph = StateGraph(AgentState)\n",
    "graph.add_node(\"process\", process_input)\n",
    "graph.add_edge(START, \"process\")\n",
    "graph.add_edge(\"process\", END)\n",
    "agent = graph.compile()\n",
    "\n",
    "user_input = input(\"Enter: \")\n",
    "while user_input != \"exit\":\n",
    "    agent.invoke({\"messages\": [HumanMessage(content=user_input)]})\n",
    "    user_input = input(\"Enter: \")"
   ]
  }
 ],
 "metadata": {
  "kernelspec": {
   "display_name": "base",
   "language": "python",
   "name": "python3"
  },
  "language_info": {
   "codemirror_mode": {
    "name": "ipython",
    "version": 3
   },
   "file_extension": ".py",
   "mimetype": "text/x-python",
   "name": "python",
   "nbconvert_exporter": "python",
   "pygments_lexer": "ipython3",
   "version": "3.12.4"
  }
 },
 "nbformat": 4,
 "nbformat_minor": 5
}
