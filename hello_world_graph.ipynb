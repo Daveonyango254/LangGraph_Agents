{
 "cells": [
  {
   "cell_type": "markdown",
   "id": "8340aea1",
   "metadata": {},
   "source": [
    "The First LangGraph (Basic with 1 node)"
   ]
  },
  {
   "cell_type": "code",
   "execution_count": null,
   "id": "18ff0ad6",
   "metadata": {},
   "outputs": [],
   "source": [
    "# %pip install langgraph langchain langchain-community\n",
    "from typing import Dict, TypedDict\n",
    "# framework to help design and manage the flow of tasks in the application using a graph\n",
    "from langgraph.graph import StateGraph"
   ]
  },
  {
   "cell_type": "code",
   "execution_count": null,
   "id": "c371cfd1",
   "metadata": {},
   "outputs": [],
   "source": [
    "# Create an AgentState (Shared datastructure that keeps track of information as your application runs)\n",
    "class AgentState(TypedDict):  # Our stete schema\n",
    "    message: str\n",
    "\n",
    "# Create 1st node\n",
    "\n",
    "\n",
    "def greeting_node(state: AgentState) -> AgentState:\n",
    "    \"\"\"Simple node that adds a greeting message to the state.\"\"\"\n",
    "    state['message'] = \"Hey \" + state['message'] + \", welcome to LangGraph!\"\n",
    "    return state"
   ]
  },
  {
   "cell_type": "code",
   "execution_count": null,
   "id": "58809a2f",
   "metadata": {},
   "outputs": [],
   "source": [
    "# Build a graph\n",
    "graph = StateGraph(AgentState)\n",
    "graph.add_node(\"greet\", greeting_node)\n",
    "\n",
    "# Add start and end points\n",
    "graph.set_entry_point(\"greet\")\n",
    "graph.set_finish_point(\"greet\")\n",
    "\n",
    "# Compile the graph\n",
    "app = graph.compile()"
   ]
  },
  {
   "cell_type": "code",
   "execution_count": null,
   "id": "fe58d0b8",
   "metadata": {},
   "outputs": [
    {
     "data": {
      "image/png": "[encoded data removed]",
      "text/plain": [
       "<IPython.core.display.Image object>"
      ]
     },
     "metadata": {},
     "output_type": "display_data"
    }
   ],
   "source": [
    "# Vissualize the graph\n",
    "from IPython.display import Image, display\n",
    "# Render the graph as a PNG image\n",
    "display(Image(app.get_graph().draw_mermaid_png()))"
   ]
  },
  {
   "cell_type": "code",
   "execution_count": 14,
   "id": "9b50055f",
   "metadata": {},
   "outputs": [
    {
     "data": {
      "text/plain": [
       "'Hey David, welcome to LangGraph!'"
      ]
     },
     "execution_count": 14,
     "metadata": {},
     "output_type": "execute_result"
    }
   ],
   "source": [
    "# Run\n",
    "results = app.invoke({\"message\": \"David\"})\n",
    "\n",
    "results['message']"
   ]
  }
 ],
 "metadata": {
  "kernelspec": {
   "display_name": "base",
   "language": "python",
   "name": "python3"
  },
  "language_info": {
   "codemirror_mode": {
    "name": "ipython",
    "version": 3
   },
   "file_extension": ".py",
   "mimetype": "text/x-python",
   "name": "python",
   "nbconvert_exporter": "python",
   "pygments_lexer": "ipython3",
   "version": "3.12.4"
  }
 },
 "nbformat": 4,
 "nbformat_minor": 5
}
