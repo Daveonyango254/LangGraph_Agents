{
 "cells": [
  {
   "cell_type": "code",
   "execution_count": 2,
   "id": "f61fa437",
   "metadata": {},
   "outputs": [],
   "source": [
    "from typing import TypedDict, List\n",
    "from langgraph.graph import StateGraph"
   ]
  },
  {
   "cell_type": "code",
   "execution_count": 14,
   "id": "fa46c9bd",
   "metadata": {},
   "outputs": [],
   "source": [
    "class AgentState(TypedDict):\n",
    "    name: str\n",
    "    age: str\n",
    "    final: str"
   ]
  },
  {
   "cell_type": "code",
   "execution_count": null,
   "id": "9eb9cfc2",
   "metadata": {},
   "outputs": [],
   "source": [
    "def first_node(state: AgentState) -> AgentState:\n",
    "    \"\"\"This is the first node of our sequence\"\"\"\n",
    "    state[\"final\"] = f\"Hi {state[\"name\"]}!\"\n",
    "    return state\n",
    "\n",
    "\n",
    "def second_node(state: AgentState) -> AgentState:\n",
    "    \"\"\"This is the second node of our sequence\"\"\"\n",
    "    state[\"final\"] = state[\"final\"] + \\\n",
    "        f\" You are {state[\"age\"]} years old!\"   # Concatenate to previous result to solve logical error\n",
    "    return state"
   ]
  },
  {
   "cell_type": "code",
   "execution_count": 16,
   "id": "c625927e",
   "metadata": {},
   "outputs": [],
   "source": [
    "graph = StateGraph(AgentState)\n",
    "\n",
    "graph.add_node(\"1st_node\", first_node)\n",
    "graph.add_node(\"2nd_node\", second_node)\n",
    "\n",
    "graph.set_entry_point(\"1st_node\")  # starting node\n",
    "graph.add_edge(\"1st_node\", \"2nd_node\")  # edge from first to second node\n",
    "graph.set_finish_point(\"2nd_node\")  # ending node\n",
    "\n",
    "app = graph.compile()  # compile the graph"
   ]
  },
  {
   "cell_type": "code",
   "execution_count": 17,
   "id": "f867c012",
   "metadata": {},
   "outputs": [
    {
     "data": {
      "image/png": "[encoded data removed]",
      "text/plain": [
       "<IPython.core.display.Image object>"
      ]
     },
     "metadata": {},
     "output_type": "display_data"
    }
   ],
   "source": [
    "# Vissualize the graph\n",
    "from IPython.display import Image, display\n",
    "# Render the graph as a PNG image\n",
    "display(Image(app.get_graph().draw_mermaid_png()))"
   ]
  },
  {
   "cell_type": "code",
   "execution_count": 18,
   "id": "e2b9132f",
   "metadata": {},
   "outputs": [
    {
     "name": "stdout",
     "output_type": "stream",
     "text": [
      "{'name': 'David', 'age': 27, 'final': 'Hi David! You are 27 years old!'}\n"
     ]
    }
   ],
   "source": [
    "result = app.invoke({\"name\": \"David\", \"age\": 27})\n",
    "print(result)"
   ]
  }
 ],
 "metadata": {
  "kernelspec": {
   "display_name": "base",
   "language": "python",
   "name": "python3"
  },
  "language_info": {
   "codemirror_mode": {
    "name": "ipython",
    "version": 3
   },
   "file_extension": ".py",
   "mimetype": "text/x-python",
   "name": "python",
   "nbconvert_exporter": "python",
   "pygments_lexer": "ipython3",
   "version": "3.12.4"
  }
 },
 "nbformat": 4,
 "nbformat_minor": 5
}
